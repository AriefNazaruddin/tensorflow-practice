{
 "cells": [
  {
   "cell_type": "code",
   "execution_count": 19,
   "id": "ed2bce5b-89c6-44a1-83f3-fb82a5da2921",
   "metadata": {},
   "outputs": [],
   "source": [
    "import numpy as np"
   ]
  },
  {
   "cell_type": "code",
   "execution_count": 20,
   "id": "8f53edad-5fc4-48e9-aeeb-bb27e24d7bea",
   "metadata": {},
   "outputs": [],
   "source": [
    "revenue = np.array([[180, 200, 220], [24, 36, 40], [12, 18, 20]])\n",
    "expenses = np.array([[80, 90, 100], [10, 16, 20],  [8, 10, 10]])"
   ]
  },
  {
   "cell_type": "code",
   "execution_count": 21,
   "id": "3505aa37-798d-4941-93fa-d152f254c7f1",
   "metadata": {},
   "outputs": [
    {
     "data": {
      "text/plain": [
       "array([[100, 110, 120],\n",
       "       [ 14,  20,  20],\n",
       "       [  4,   8,  10]])"
      ]
     },
     "execution_count": 21,
     "metadata": {},
     "output_type": "execute_result"
    }
   ],
   "source": [
    "profit = revenue - expenses\n",
    "profit"
   ]
  },
  {
   "cell_type": "code",
   "execution_count": 22,
   "id": "c3ee2c68-f749-4372-b1a1-4d63dc2e970b",
   "metadata": {},
   "outputs": [],
   "source": [
    "price_per_unit = np.array([1000, 400, 1200])\n",
    "units = np.array([[30, 40, 50], [5, 10, 15], [2, 5, 7]])"
   ]
  },
  {
   "cell_type": "code",
   "execution_count": 23,
   "id": "2c0ed1c9-4f9a-4737-99b7-8dfec28396db",
   "metadata": {},
   "outputs": [
    {
     "data": {
      "text/plain": [
       "array([34400, 50000, 64400])"
      ]
     },
     "execution_count": 23,
     "metadata": {},
     "output_type": "execute_result"
    }
   ],
   "source": [
    "np.dot(price_per_unit, units)"
   ]
  },
  {
   "cell_type": "code",
   "execution_count": 24,
   "id": "71130d2a-18d8-4c37-bae5-b5834c6a3f96",
   "metadata": {},
   "outputs": [],
   "source": [
    "revenue = np.array([[200, 220, 250] , [68, 79, 105], [110, 140, 180],  [80, 85, 90]])\n",
    "rupees = np.array([75])"
   ]
  },
  {
   "cell_type": "code",
   "execution_count": 25,
   "id": "d5392901-40e2-4435-a577-259dfb3b2d30",
   "metadata": {},
   "outputs": [
    {
     "data": {
      "text/plain": [
       "array([[15000, 16500, 18750],\n",
       "       [ 5100,  5925,  7875],\n",
       "       [ 8250, 10500, 13500],\n",
       "       [ 6000,  6375,  6750]])"
      ]
     },
     "execution_count": 25,
     "metadata": {},
     "output_type": "execute_result"
    }
   ],
   "source": [
    "converted_revenues = revenue * rupees\n",
    "converted_revenues"
   ]
  },
  {
   "cell_type": "code",
   "execution_count": 28,
   "id": "1cf72fa1-ca82-48f2-adb4-bad3022177c8",
   "metadata": {},
   "outputs": [],
   "source": [
    "unit_sold = np.array([[50, 60, 25], [10, 13, 5], [40, 70, 52]])\n",
    "flower_per_unit = np.array([20, 30, 15]) "
   ]
  },
  {
   "cell_type": "code",
   "execution_count": 30,
   "id": "afb40451-eee4-42dd-84dc-c3a3cc39b2f3",
   "metadata": {},
   "outputs": [
    {
     "data": {
      "text/plain": [
       "array([1900, 2640, 1430])"
      ]
     },
     "execution_count": 30,
     "metadata": {},
     "output_type": "execute_result"
    }
   ],
   "source": [
    "np.dot(price_per_unit, unit_sold)"
   ]
  },
  {
   "cell_type": "code",
   "execution_count": null,
   "id": "8fdee7dd-86e7-49be-8b20-0d40592f0e25",
   "metadata": {},
   "outputs": [],
   "source": []
  }
 ],
 "metadata": {
  "kernelspec": {
   "display_name": "Python 3 (ipykernel)",
   "language": "python",
   "name": "python3"
  },
  "language_info": {
   "codemirror_mode": {
    "name": "ipython",
    "version": 3
   },
   "file_extension": ".py",
   "mimetype": "text/x-python",
   "name": "python",
   "nbconvert_exporter": "python",
   "pygments_lexer": "ipython3",
   "version": "3.11.7"
  }
 },
 "nbformat": 4,
 "nbformat_minor": 5
}
