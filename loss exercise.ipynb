{
 "cells": [
  {
   "cell_type": "code",
   "execution_count": 1,
   "id": "15812b47-25bd-48a0-88c7-b48299ca5306",
   "metadata": {},
   "outputs": [],
   "source": [
    "import numpy as np"
   ]
  },
  {
   "cell_type": "code",
   "execution_count": 2,
   "id": "d7f16ba4-724e-4e55-8da0-569d71b54426",
   "metadata": {},
   "outputs": [],
   "source": [
    "\n",
    "y_predicted = np.array([1,1,0,0,1])\n",
    "y_true = np.array([0.30,0.7,1,0,0.5])"
   ]
  },
  {
   "cell_type": "code",
   "execution_count": 8,
   "id": "1de34414-2af2-41dd-8f09-0dc4ccc409cf",
   "metadata": {},
   "outputs": [
    {
     "name": "stdout",
     "output_type": "stream",
     "text": [
      "total Error :  2.5\n",
      "mse :  0.5\n"
     ]
    }
   ],
   "source": [
    "total_error = 0\n",
    "for yp, yt in zip(y_predicted, y_true):\n",
    "    total_error += abs(yt - yp)\n",
    "print('total Error : ', total_error)\n",
    "mse = total_error / len(y_true)\n",
    "print('mse : ', mae)"
   ]
  },
  {
   "cell_type": "code",
   "execution_count": 9,
   "id": "7eaa8292-cc8d-4235-8eaa-232d0cb53085",
   "metadata": {},
   "outputs": [
    {
     "data": {
      "text/plain": [
       "0.5"
      ]
     },
     "execution_count": 9,
     "metadata": {},
     "output_type": "execute_result"
    }
   ],
   "source": [
    "np.mean(np.abs(y_predicted - y_true))"
   ]
  },
  {
   "cell_type": "code",
   "execution_count": null,
   "id": "1abc9972-f803-4594-916c-d5885f8f608f",
   "metadata": {},
   "outputs": [],
   "source": []
  }
 ],
 "metadata": {
  "kernelspec": {
   "display_name": "Python 3 (ipykernel)",
   "language": "python",
   "name": "python3"
  },
  "language_info": {
   "codemirror_mode": {
    "name": "ipython",
    "version": 3
   },
   "file_extension": ".py",
   "mimetype": "text/x-python",
   "name": "python",
   "nbconvert_exporter": "python",
   "pygments_lexer": "ipython3",
   "version": "3.11.7"
  }
 },
 "nbformat": 4,
 "nbformat_minor": 5
}
