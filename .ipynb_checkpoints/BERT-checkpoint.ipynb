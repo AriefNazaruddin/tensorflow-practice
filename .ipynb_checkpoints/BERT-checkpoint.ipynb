{
 "cells": [
  {
   "cell_type": "code",
   "execution_count": 2,
   "id": "b26685b6-1935-4f3d-86e2-d2015f1e3118",
   "metadata": {},
   "outputs": [],
   "source": [
    "import tensorflow_hub as hub\n",
    "import tensorflow_text as text\n",
    "import tensorflow as tf"
   ]
  },
  {
   "cell_type": "code",
   "execution_count": 4,
   "id": "efa498ef-b062-4468-9bb3-e57d50538256",
   "metadata": {},
   "outputs": [],
   "source": [
    "preprocess_url = 'https://kaggle.com/models/tensorflow/bert/TensorFlow2/en-uncased-preprocess/3'\n",
    "encoder_url = 'https://www.kaggle.com/models/tensorflow/bert/TensorFlow2/bert-en-uncased-l-12-h-768-a-12/2'"
   ]
  },
  {
   "cell_type": "code",
   "execution_count": 5,
   "id": "10d0770d-c065-48cb-9f1f-9c71bb531b17",
   "metadata": {},
   "outputs": [],
   "source": [
    "bert_preprocess_model = hub.KerasLayer(preprocess_url)"
   ]
  },
  {
   "cell_type": "code",
   "execution_count": 7,
   "id": "b8e94517-702b-465f-80dc-990dac9b030f",
   "metadata": {},
   "outputs": [
    {
     "data": {
      "text/plain": [
       "dict_keys(['input_type_ids', 'input_word_ids', 'input_mask'])"
      ]
     },
     "execution_count": 7,
     "metadata": {},
     "output_type": "execute_result"
    }
   ],
   "source": [
    "text_test =['nice movie indeed', 'I love python programming']\n",
    "text_preprocessed = bert_preprocess_model(text_test)\n",
    "text_preprocessed.keys()"
   ]
  },
  {
   "cell_type": "code",
   "execution_count": 14,
   "id": "138fc388-dfde-4bc1-9d0a-3ad77245d853",
   "metadata": {},
   "outputs": [
    {
     "data": {
      "text/plain": [
       "dict_keys(['default', 'pooled_output', 'encoder_outputs', 'sequence_output'])"
      ]
     },
     "execution_count": 14,
     "metadata": {},
     "output_type": "execute_result"
    }
   ],
   "source": [
    "bert_model = hub.KerasLayer(encoder_url)\n",
    "bert_results = bert_model(text_preprocessed)\n",
    "bert_results.keys()"
   ]
  },
  {
   "cell_type": "code",
   "execution_count": 15,
   "id": "d5474a54-5340-4ced-bbdc-8663e9910f05",
   "metadata": {},
   "outputs": [
    {
     "data": {
      "text/plain": [
       "<tf.Tensor: shape=(2, 768), dtype=float32, numpy=\n",
       "array([[ 0.31717607, -0.00866438,  0.9470973 , ..., -0.76346606,\n",
       "         0.16725037,  0.99829555],\n",
       "       [ 0.39902395, -0.14215454,  0.90581137, ..., -0.7832757 ,\n",
       "         0.17448749,  0.9984511 ]], dtype=float32)>"
      ]
     },
     "execution_count": 15,
     "metadata": {},
     "output_type": "execute_result"
    }
   ],
   "source": [
    "bert_results['pooled_output']"
   ]
  },
  {
   "cell_type": "code",
   "execution_count": 16,
   "id": "bfec533e-9706-4cd2-857d-970941ce964e",
   "metadata": {},
   "outputs": [
    {
     "data": {
      "text/plain": [
       "<tf.Tensor: shape=(2, 128, 768), dtype=float32, numpy=\n",
       "array([[[-0.801847  ,  0.32370335,  0.0640629 , ...,  0.16143933,\n",
       "         -0.39966577, -0.59269786],\n",
       "        [ 0.12238587, -0.02579048,  0.3384098 , ...,  0.42271253,\n",
       "         -0.00305718, -0.01359868],\n",
       "        [-0.22769701,  0.13266271,  0.12646566, ..., -0.13229647,\n",
       "         -0.29885507, -0.65106356],\n",
       "        ...,\n",
       "        [-0.09692404,  0.29775482,  0.2895224 , ..., -0.09305184,\n",
       "         -0.08346631,  0.2145209 ],\n",
       "        [-0.2273348 ,  0.42646065,  0.08584551, ...,  0.00278505,\n",
       "          0.02171095,  0.2588937 ],\n",
       "        [-0.22103594,  0.779051  , -0.07341063, ...,  0.01778648,\n",
       "         -0.07841954, -0.22941016]],\n",
       "\n",
       "       [[ 0.0594268 , -0.21182026, -0.13605344, ...,  0.43780166,\n",
       "          0.5027505 , -0.3603995 ],\n",
       "        [ 0.6706386 ,  0.14072548, -0.0915664 , ...,  0.4209719 ,\n",
       "          0.41126633, -0.5590716 ],\n",
       "        [ 0.17817311, -0.49052942, -0.38662997, ...,  0.12553163,\n",
       "         -0.27710786, -0.16041745],\n",
       "        ...,\n",
       "        [ 0.09593724,  0.0986878 , -0.08422367, ...,  0.08373389,\n",
       "          0.40447146,  0.11039107],\n",
       "        [ 0.3815726 ,  0.07001908,  0.11627175, ...,  0.11995108,\n",
       "          0.38721237, -0.13366155],\n",
       "        [ 0.07860166, -0.13963294, -0.10650317, ...,  0.23093224,\n",
       "          0.2599857 ,  0.10904783]]], dtype=float32)>"
      ]
     },
     "execution_count": 16,
     "metadata": {},
     "output_type": "execute_result"
    }
   ],
   "source": [
    "bert_results['sequence_output']"
   ]
  },
  {
   "cell_type": "code",
   "execution_count": 21,
   "id": "a168428f-ce6d-4f22-9856-32492b227d92",
   "metadata": {},
   "outputs": [
    {
     "data": {
      "text/plain": [
       "<tf.Tensor: shape=(2, 128, 768), dtype=bool, numpy=\n",
       "array([[[ True,  True,  True, ...,  True,  True,  True],\n",
       "        [ True,  True,  True, ...,  True,  True,  True],\n",
       "        [ True,  True,  True, ...,  True,  True,  True],\n",
       "        ...,\n",
       "        [ True,  True,  True, ...,  True,  True,  True],\n",
       "        [ True,  True,  True, ...,  True,  True,  True],\n",
       "        [ True,  True,  True, ...,  True,  True,  True]],\n",
       "\n",
       "       [[ True,  True,  True, ...,  True,  True,  True],\n",
       "        [ True,  True,  True, ...,  True,  True,  True],\n",
       "        [ True,  True,  True, ...,  True,  True,  True],\n",
       "        ...,\n",
       "        [ True,  True,  True, ...,  True,  True,  True],\n",
       "        [ True,  True,  True, ...,  True,  True,  True],\n",
       "        [ True,  True,  True, ...,  True,  True,  True]]])>"
      ]
     },
     "execution_count": 21,
     "metadata": {},
     "output_type": "execute_result"
    }
   ],
   "source": [
    "bert_results['encoder_outputs'][-1] == bert_results['sequence_output']"
   ]
  },
  {
   "cell_type": "code",
   "execution_count": null,
   "id": "2a2e9ef4-b9e5-4772-ac48-9fe07c7c0066",
   "metadata": {},
   "outputs": [],
   "source": []
  }
 ],
 "metadata": {
  "kernelspec": {
   "display_name": "Python 3 (ipykernel)",
   "language": "python",
   "name": "python3"
  },
  "language_info": {
   "codemirror_mode": {
    "name": "ipython",
    "version": 3
   },
   "file_extension": ".py",
   "mimetype": "text/x-python",
   "name": "python",
   "nbconvert_exporter": "python",
   "pygments_lexer": "ipython3",
   "version": "3.10.14"
  }
 },
 "nbformat": 4,
 "nbformat_minor": 5
}
