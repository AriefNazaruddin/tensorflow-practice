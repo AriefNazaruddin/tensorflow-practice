{
 "cells": [
  {
   "cell_type": "code",
   "execution_count": 1,
   "id": "b65161fd-f1b3-40a0-80fe-e6a011681318",
   "metadata": {},
   "outputs": [],
   "source": [
    "import tensorflow as tf"
   ]
  },
  {
   "cell_type": "code",
   "execution_count": 2,
   "id": "4394b089-5abb-4802-b2d5-f1463be98d11",
   "metadata": {},
   "outputs": [],
   "source": [
    "daily_sales_number = [21, 22, -108, 31, -1, 32, 34, 31]"
   ]
  },
  {
   "cell_type": "code",
   "execution_count": 3,
   "id": "dfb5a190-1945-4272-9b99-798f33231a93",
   "metadata": {},
   "outputs": [
    {
     "data": {
      "text/plain": [
       "<TensorSliceDataset element_spec=TensorSpec(shape=(), dtype=tf.int32, name=None)>"
      ]
     },
     "execution_count": 3,
     "metadata": {},
     "output_type": "execute_result"
    }
   ],
   "source": [
    "tf_dataset = tf.data.Dataset.from_tensor_slices(daily_sales_number)\n",
    "tf_dataset"
   ]
  },
  {
   "cell_type": "code",
   "execution_count": 4,
   "id": "51575751-6488-4553-962a-7684b6a9a585",
   "metadata": {},
   "outputs": [
    {
     "name": "stdout",
     "output_type": "stream",
     "text": [
      "21\n",
      "22\n",
      "-108\n",
      "31\n",
      "-1\n",
      "32\n",
      "34\n",
      "31\n"
     ]
    }
   ],
   "source": [
    "for sales in tf_dataset.as_numpy_iterator():\n",
    "    print(sales)"
   ]
  },
  {
   "cell_type": "code",
   "execution_count": 5,
   "id": "70ed0aaf-e99c-485d-90f8-d0200884464f",
   "metadata": {},
   "outputs": [
    {
     "name": "stdout",
     "output_type": "stream",
     "text": [
      "21\n",
      "22\n",
      "-108\n"
     ]
    }
   ],
   "source": [
    "for sales in tf_dataset.take(3):\n",
    "    print(sales.numpy())"
   ]
  },
  {
   "cell_type": "code",
   "execution_count": 6,
   "id": "a19720f0-ad1b-46f3-9bab-2a1e89ebea53",
   "metadata": {},
   "outputs": [
    {
     "name": "stdout",
     "output_type": "stream",
     "text": [
      "21\n",
      "22\n",
      "31\n",
      "32\n",
      "34\n",
      "31\n"
     ]
    }
   ],
   "source": [
    "tf_dataset = tf_dataset.filter(lambda x: x>0)\n",
    "for sales in tf_dataset.as_numpy_iterator():\n",
    "    print(sales)"
   ]
  },
  {
   "cell_type": "code",
   "execution_count": 7,
   "id": "c054bbd9-3bfe-4183-82ad-56583cacbb0c",
   "metadata": {},
   "outputs": [
    {
     "name": "stdout",
     "output_type": "stream",
     "text": [
      "105\n",
      "110\n",
      "155\n",
      "160\n",
      "170\n",
      "155\n"
     ]
    }
   ],
   "source": [
    "tf_dataset = tf_dataset.map(lambda x: x*5)\n",
    "for sales in tf_dataset.as_numpy_iterator():\n",
    "    print(sales)"
   ]
  },
  {
   "cell_type": "code",
   "execution_count": 8,
   "id": "392321f9-345b-4228-b613-3336312138cf",
   "metadata": {},
   "outputs": [
    {
     "name": "stdout",
     "output_type": "stream",
     "text": [
      "110\n",
      "170\n",
      "105\n",
      "155\n",
      "160\n",
      "155\n"
     ]
    }
   ],
   "source": [
    "tf_dataset = tf_dataset.shuffle(4)\n",
    "for sales in tf_dataset.as_numpy_iterator():\n",
    "    print(sales)"
   ]
  },
  {
   "cell_type": "code",
   "execution_count": 9,
   "id": "3138b606-2192-42d6-bd17-29308cda52c6",
   "metadata": {},
   "outputs": [
    {
     "name": "stdout",
     "output_type": "stream",
     "text": [
      "[160 155]\n",
      "[105 155]\n",
      "[110 170]\n"
     ]
    }
   ],
   "source": [
    "for sales_batch in tf_dataset.batch(2):\n",
    "    print(sales_batch.numpy())"
   ]
  },
  {
   "cell_type": "code",
   "execution_count": 10,
   "id": "cd713afd-1c50-4cca-9365-aa2c99e713b3",
   "metadata": {},
   "outputs": [
    {
     "name": "stdout",
     "output_type": "stream",
     "text": [
      "[105 155]\n",
      "[160 170]\n",
      "[110 155]\n"
     ]
    }
   ],
   "source": [
    "tf_dataset = tf.data.Dataset.from_tensor_slices(daily_sales_number)\n",
    "\n",
    "tf_dataset = tf_dataset.filter(lambda x : x>0).map(lambda y:y*5).shuffle(2).batch(2)\n",
    "\n",
    "for sales in tf_dataset.as_numpy_iterator():\n",
    "    print(sales)"
   ]
  },
  {
   "cell_type": "code",
   "execution_count": null,
   "id": "861bbf11-105f-4fe8-863e-d5971a71d7fc",
   "metadata": {},
   "outputs": [],
   "source": []
  },
  {
   "cell_type": "code",
   "execution_count": 11,
   "id": "174a97f2-2be0-4f90-9a8a-c873b99a74c0",
   "metadata": {},
   "outputs": [
    {
     "name": "stdout",
     "output_type": "stream",
     "text": [
      "b'images\\\\cat\\\\20 Reasons Why Cats Make the Best Pets....jpg'\n",
      "b'images\\\\cat\\\\7 Foods Your Cat Can_t Eat.jpg'\n",
      "b'images\\\\cat\\\\A cat appears to have caught the....jpg'\n",
      "b'images\\\\cat\\\\Adopt-A-Cat Month\\xc2\\xae - American Humane....jpg'\n",
      "b'images\\\\cat\\\\All About Your Cat_s Tongue.jpg'\n"
     ]
    }
   ],
   "source": [
    "images_ds = tf.data.Dataset.list_files('images/*/*', shuffle=False)\n",
    "\n",
    "for file in images_ds.take(5):\n",
    "    print(file.numpy())"
   ]
  },
  {
   "cell_type": "code",
   "execution_count": 12,
   "id": "58099b85-ca94-4a04-a43e-469f9854561d",
   "metadata": {},
   "outputs": [
    {
     "name": "stdout",
     "output_type": "stream",
     "text": [
      "b'images\\\\cat\\\\What to do if your cat is marking....jpg'\n",
      "b'images\\\\dog\\\\The 20 Best Dog Breeds for Runners....jpg'\n",
      "b'images\\\\dog\\\\Hong Kong dog causes panic \\xe2\\x80\\x93 but here_s....jpg'\n"
     ]
    }
   ],
   "source": [
    "images_ds = images_ds.shuffle(200)\n",
    "\n",
    "for file in images_ds.take(3):\n",
    "    print(file.numpy())"
   ]
  },
  {
   "cell_type": "code",
   "execution_count": 13,
   "id": "a82806f6-10ad-42f6-a863-272717cb7246",
   "metadata": {},
   "outputs": [],
   "source": [
    "class_names = ['cat', 'dog']"
   ]
  },
  {
   "cell_type": "code",
   "execution_count": 14,
   "id": "dbcabecf-2a10-4a22-a7c7-75403c03ed2f",
   "metadata": {},
   "outputs": [
    {
     "data": {
      "text/plain": [
       "130"
      ]
     },
     "execution_count": 14,
     "metadata": {},
     "output_type": "execute_result"
    }
   ],
   "source": [
    "image_count = len(images_ds)\n",
    "image_count"
   ]
  },
  {
   "cell_type": "code",
   "execution_count": 15,
   "id": "4f2be0a9-7c6f-4331-9926-3dbab8efc37f",
   "metadata": {},
   "outputs": [],
   "source": [
    "train_size = int(image_count*0.8)\n",
    "train_ds = images_ds.take(train_size)\n",
    "test_ds = images_ds.skip(train_size)"
   ]
  },
  {
   "cell_type": "code",
   "execution_count": 16,
   "id": "b7eecf9c-4a7e-459c-883c-0809bf6f1da0",
   "metadata": {},
   "outputs": [
    {
     "data": {
      "text/plain": [
       "104"
      ]
     },
     "execution_count": 16,
     "metadata": {},
     "output_type": "execute_result"
    }
   ],
   "source": [
    "len(train_ds)"
   ]
  },
  {
   "cell_type": "code",
   "execution_count": 17,
   "id": "e6f1f427-afe7-46de-af67-f14b8e868c08",
   "metadata": {},
   "outputs": [
    {
     "data": {
      "text/plain": [
       "26"
      ]
     },
     "execution_count": 17,
     "metadata": {},
     "output_type": "execute_result"
    }
   ],
   "source": [
    "len(test_ds)"
   ]
  },
  {
   "cell_type": "code",
   "execution_count": 18,
   "id": "fde184aa-2a73-44ba-8ec3-3abbc09606d3",
   "metadata": {},
   "outputs": [
    {
     "data": {
      "text/plain": [
       "'cat'"
      ]
     },
     "execution_count": 18,
     "metadata": {},
     "output_type": "execute_result"
    }
   ],
   "source": [
    "s = 'images\\\\cat\\\\All About Your Cat_s Tongue.jpg'\n",
    "\n",
    "s.split('\\\\')[-2]"
   ]
  },
  {
   "cell_type": "code",
   "execution_count": 19,
   "id": "f6814464-ede7-4644-8a57-139ce7126e2c",
   "metadata": {},
   "outputs": [],
   "source": [
    "def get_label(file_path):\n",
    "    import os\n",
    "    return tf.strings.split(file_path, os.path.sep)[-2]"
   ]
  },
  {
   "cell_type": "code",
   "execution_count": 20,
   "id": "2d932dae-097b-4df3-9b87-d2f551c44e14",
   "metadata": {},
   "outputs": [],
   "source": [
    "def process_image(file_path):\n",
    "    label = get_label(file_path)\n",
    "\n",
    "    img = tf.io.read_file(file_path)\n",
    "    img = tf.image.decode_jpeg(img)\n",
    "    img = tf.image.resize(img, [128, 128])\n",
    "\n",
    "    return img, label"
   ]
  },
  {
   "cell_type": "code",
   "execution_count": 21,
   "id": "eaa13334-7df9-438d-89c9-dc5135caab23",
   "metadata": {},
   "outputs": [
    {
     "name": "stdout",
     "output_type": "stream",
     "text": [
      "b'images\\\\dog\\\\dog existed at the end of the Ice Age_yythkg....jpg'\n",
      "b'images\\\\dog\\\\The Best Dogs of BBC Earth _ Top 5....jpg'\n",
      "b'images\\\\cat\\\\Home_ sweet home_ How to bring an....jpg'\n",
      "b'images\\\\dog\\\\11 Things Humans Do That Dogs Hate.jpg'\n"
     ]
    }
   ],
   "source": [
    "for t in train_ds.take(4):\n",
    "    print(t.numpy())"
   ]
  },
  {
   "cell_type": "code",
   "execution_count": 22,
   "id": "25c7f63e-73fd-4508-9c41-642a16d300c6",
   "metadata": {},
   "outputs": [
    {
     "name": "stdout",
     "output_type": "stream",
     "text": [
      "image :  tf.Tensor(\n",
      "[[[ 36.75  35.75  41.75]\n",
      "  [ 35.25  35.25  43.25]\n",
      "  [ 34.    34.    42.  ]\n",
      "  ...\n",
      "  [ 63.    49.    48.  ]\n",
      "  [ 66.25  51.5   48.5 ]\n",
      "  [ 85.5   61.5   49.5 ]]\n",
      "\n",
      " [[ 35.25  35.25  43.25]\n",
      "  [ 36.    36.    44.  ]\n",
      "  [ 35.    35.    43.  ]\n",
      "  ...\n",
      "  [ 69.    51.75  45.5 ]\n",
      "  [ 73.75  54.75  48.5 ]\n",
      "  [ 93.25  67.25  53.75]]\n",
      "\n",
      " [[ 34.75  34.75  42.75]\n",
      "  [ 34.25  34.25  42.25]\n",
      "  [ 35.75  35.75  43.75]\n",
      "  ...\n",
      "  [ 77.25  58.    50.5 ]\n",
      "  [ 89.5   66.5   52.5 ]\n",
      "  [ 97.    69.75  53.5 ]]\n",
      "\n",
      " ...\n",
      "\n",
      " [[145.25 129.25 113.25]\n",
      "  [143.75 131.75 109.75]\n",
      "  [145.75 133.75 111.75]\n",
      "  ...\n",
      "  [110.75 103.75  85.75]\n",
      "  [115.25 108.25  92.25]\n",
      "  [112.   103.    86.  ]]\n",
      "\n",
      " [[143.25 127.25 111.25]\n",
      "  [141.25 128.25 109.25]\n",
      "  [146.   131.   110.  ]\n",
      "  ...\n",
      "  [110.75 103.75  87.75]\n",
      "  [106.75  99.75  83.75]\n",
      "  [108.5  100.75  87.  ]]\n",
      "\n",
      " [[147.75 131.75 115.75]\n",
      "  [150.   135.   114.  ]\n",
      "  [144.25 129.25 108.25]\n",
      "  ...\n",
      "  [109.75 103.75  91.75]\n",
      "  [105.    97.5   84.25]\n",
      "  [107.   101.    87.  ]]], shape=(128, 128, 3), dtype=float32)\n",
      "label :  tf.Tensor(b'dog', shape=(), dtype=string)\n",
      "image :  tf.Tensor(\n",
      "[[[222.3125   233.3125   235.3125  ]\n",
      "  [230.       239.       238.      ]\n",
      "  [232.       241.       240.      ]\n",
      "  ...\n",
      "  [228.       239.       241.      ]\n",
      "  [230.       238.       241.      ]\n",
      "  [232.       240.       243.      ]]\n",
      "\n",
      " [[219.       230.       232.      ]\n",
      "  [230.       239.       238.      ]\n",
      "  [232.       241.       240.      ]\n",
      "  ...\n",
      "  [228.       239.       241.      ]\n",
      "  [230.       238.       241.      ]\n",
      "  [232.       240.       243.      ]]\n",
      "\n",
      " [[221.       232.       238.      ]\n",
      "  [221.72656  232.72656  234.72656 ]\n",
      "  [226.       237.       239.      ]\n",
      "  ...\n",
      "  [230.       238.       241.      ]\n",
      "  [230.       238.       241.      ]\n",
      "  [232.       240.       243.      ]]\n",
      "\n",
      " ...\n",
      "\n",
      " [[133.       135.        62.      ]\n",
      "  [119.71094  120.71094   52.710938]\n",
      "  [143.0625   139.0625    76.0625  ]\n",
      "  ...\n",
      "  [143.875    139.875     76.875   ]\n",
      "  [142.4375   142.4375    82.4375  ]\n",
      "  [141.125    136.4375    84.      ]]\n",
      "\n",
      " [[133.3125   132.3125    68.1875  ]\n",
      "  [111.33594  109.33594   48.335938]\n",
      "  [142.14844  138.08594   74.08594 ]\n",
      "  ...\n",
      "  [139.       135.9375    85.125   ]\n",
      "  [145.1875   132.875     83.125   ]\n",
      "  [132.3125   134.625     66.125   ]]\n",
      "\n",
      " [[127.875    135.53906   68.375   ]\n",
      "  [118.625    124.25      68.875   ]\n",
      "  [130.19531  131.82031   74.13281 ]\n",
      "  ...\n",
      "  [133.375    141.3125    70.375   ]\n",
      "  [128.4375   145.9375    60.75    ]\n",
      "  [122.359375 150.125     59.875   ]]], shape=(128, 128, 3), dtype=float32)\n",
      "label :  tf.Tensor(b'dog', shape=(), dtype=string)\n",
      "image :  tf.Tensor(\n",
      "[[[215.03125  206.03125  189.03125 ]\n",
      "  [217.       208.       191.      ]\n",
      "  [217.15625  208.15625  191.15625 ]\n",
      "  ...\n",
      "  [212.42188  204.42188  183.42188 ]\n",
      "  [216.8125   207.       188.26562 ]\n",
      "  [209.0625   201.57812  183.09375 ]]\n",
      "\n",
      " [[215.03125  206.03125  189.03125 ]\n",
      "  [217.       208.       191.      ]\n",
      "  [217.15625  208.15625  191.15625 ]\n",
      "  ...\n",
      "  [212.42188  204.42188  183.42188 ]\n",
      "  [216.8125   207.       188.26562 ]\n",
      "  [208.57812  201.09375  182.60938 ]]\n",
      "\n",
      " [[214.22266  205.22266  188.22266 ]\n",
      "  [216.54688  207.54688  190.54688 ]\n",
      "  [217.57812  208.57812  191.57812 ]\n",
      "  ...\n",
      "  [212.79816  204.79816  182.6419  ]\n",
      "  [215.90625  207.90625  187.8125  ]\n",
      "  [206.70209  199.67084  179.21771 ]]\n",
      "\n",
      " ...\n",
      "\n",
      " [[183.96558  193.4411   194.39032 ]\n",
      "  [ 91.37726   80.11163   51.63507 ]\n",
      "  [ 27.528564  47.270813  11.647095]\n",
      "  ...\n",
      "  [ 45.149902  62.588562  19.388977]\n",
      "  [ 76.10156   92.03839   52.45343 ]\n",
      "  [ 70.68317   86.99744   52.064392]]\n",
      "\n",
      " [[166.85736  175.22705  165.58783 ]\n",
      "  [ 69.64032   65.71063   39.027344]\n",
      "  [ 58.575073  74.1532    40.089905]\n",
      "  ...\n",
      "  [ 79.90332   58.348145  23.929321]\n",
      "  [ 68.74469   84.06201   45.21466 ]\n",
      "  [ 49.414368  55.242188  19.423279]]\n",
      "\n",
      " [[152.59943  160.53693  149.99005 ]\n",
      "  [ 57.54596   62.561584  29.482056]\n",
      "  [ 55.72052   81.986145  41.664795]\n",
      "  ...\n",
      "  [147.67389  112.29889   73.7843  ]\n",
      "  [ 40.679504  45.03357   10.113098]\n",
      "  [ 40.749207  59.065247  11.448059]]], shape=(128, 128, 3), dtype=float32)\n",
      "label :  tf.Tensor(b'dog', shape=(), dtype=string)\n"
     ]
    }
   ],
   "source": [
    "train_ds = train_ds.map(process_image)\n",
    "for img, label in train_ds.take(3):\n",
    "    print('image : ', img)\n",
    "    print('label : ', label)"
   ]
  },
  {
   "cell_type": "code",
   "execution_count": 23,
   "id": "aaea640b-538d-46bc-86f4-a48bb8df858d",
   "metadata": {},
   "outputs": [],
   "source": [
    "def scale(image, label):\n",
    "    return image/255, label"
   ]
  },
  {
   "cell_type": "code",
   "execution_count": 24,
   "id": "7a8b5ebe-7ba7-41e9-9748-6aec41f39e86",
   "metadata": {},
   "outputs": [
    {
     "name": "stdout",
     "output_type": "stream",
     "text": [
      "*******Image:  [0.99607843 0.99607843 0.99607843]\n",
      "*******Label:  b'dog'\n",
      "*******Image:  [0.4059283  0.24524356 0.13610217 1.        ]\n",
      "*******Label:  b'dog'\n",
      "*******Image:  [0.50351036 0.46697664 0.25398403]\n",
      "*******Label:  b'dog'\n",
      "*******Image:  [0.860769   0.79018074 0.6960631 ]\n",
      "*******Label:  b'dog'\n",
      "*******Image:  [0.3577304 0.6239124 0.4327638]\n",
      "*******Label:  b'dog'\n"
     ]
    }
   ],
   "source": [
    "train_ds = train_ds.map(scale)\n",
    "for image, label in train_ds.take(5):\n",
    "    print('*******Image: ', image.numpy()[0][0])\n",
    "    print('*******Label: ', label.numpy())"
   ]
  }
 ],
 "metadata": {
  "kernelspec": {
   "display_name": "Python 3 (ipykernel)",
   "language": "python",
   "name": "python3"
  },
  "language_info": {
   "codemirror_mode": {
    "name": "ipython",
    "version": 3
   },
   "file_extension": ".py",
   "mimetype": "text/x-python",
   "name": "python",
   "nbconvert_exporter": "python",
   "pygments_lexer": "ipython3",
   "version": "3.10.14"
  }
 },
 "nbformat": 4,
 "nbformat_minor": 5
}
