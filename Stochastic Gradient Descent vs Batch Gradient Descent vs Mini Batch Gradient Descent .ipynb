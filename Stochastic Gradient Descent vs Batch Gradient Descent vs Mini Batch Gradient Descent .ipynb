{
 "cells": [
  {
   "cell_type": "code",
   "execution_count": 27,
   "id": "c66ca838-3c32-4c1b-a2af-2e6e75c077e0",
   "metadata": {},
   "outputs": [],
   "source": [
    "import pandas as pd\n",
    "import numpy as np\n",
    "import matplotlib.pyplot as plt\n",
    "%matplotlib inline"
   ]
  },
  {
   "cell_type": "code",
   "execution_count": 28,
   "id": "6ae44857-a4ee-44e5-a1e8-a528b91ca3ac",
   "metadata": {},
   "outputs": [
    {
     "data": {
      "text/html": [
       "<div>\n",
       "<style scoped>\n",
       "    .dataframe tbody tr th:only-of-type {\n",
       "        vertical-align: middle;\n",
       "    }\n",
       "\n",
       "    .dataframe tbody tr th {\n",
       "        vertical-align: top;\n",
       "    }\n",
       "\n",
       "    .dataframe thead th {\n",
       "        text-align: right;\n",
       "    }\n",
       "</style>\n",
       "<table border=\"1\" class=\"dataframe\">\n",
       "  <thead>\n",
       "    <tr style=\"text-align: right;\">\n",
       "      <th></th>\n",
       "      <th>area</th>\n",
       "      <th>bedrooms</th>\n",
       "      <th>price</th>\n",
       "    </tr>\n",
       "  </thead>\n",
       "  <tbody>\n",
       "    <tr>\n",
       "      <th>0</th>\n",
       "      <td>1056</td>\n",
       "      <td>2</td>\n",
       "      <td>39.07</td>\n",
       "    </tr>\n",
       "    <tr>\n",
       "      <th>1</th>\n",
       "      <td>2600</td>\n",
       "      <td>4</td>\n",
       "      <td>120.00</td>\n",
       "    </tr>\n",
       "    <tr>\n",
       "      <th>2</th>\n",
       "      <td>1440</td>\n",
       "      <td>3</td>\n",
       "      <td>62.00</td>\n",
       "    </tr>\n",
       "    <tr>\n",
       "      <th>3</th>\n",
       "      <td>1521</td>\n",
       "      <td>3</td>\n",
       "      <td>75.00</td>\n",
       "    </tr>\n",
       "    <tr>\n",
       "      <th>4</th>\n",
       "      <td>1200</td>\n",
       "      <td>2</td>\n",
       "      <td>51.00</td>\n",
       "    </tr>\n",
       "  </tbody>\n",
       "</table>\n",
       "</div>"
      ],
      "text/plain": [
       "   area  bedrooms   price\n",
       "0  1056         2   39.07\n",
       "1  2600         4  120.00\n",
       "2  1440         3   62.00\n",
       "3  1521         3   75.00\n",
       "4  1200         2   51.00"
      ]
     },
     "execution_count": 28,
     "metadata": {},
     "output_type": "execute_result"
    }
   ],
   "source": [
    "df = pd.read_csv('homeprices_banglore.csv')\n",
    "df.head()"
   ]
  },
  {
   "cell_type": "code",
   "execution_count": 29,
   "id": "116c74d6-30a6-4eb0-a2a6-50a197dba85b",
   "metadata": {},
   "outputs": [
    {
     "data": {
      "text/plain": [
       "array([[0.08827586, 0.25      ],\n",
       "       [0.62068966, 0.75      ],\n",
       "       [0.22068966, 0.5       ],\n",
       "       [0.24862069, 0.5       ],\n",
       "       [0.13793103, 0.25      ],\n",
       "       [0.12758621, 0.25      ],\n",
       "       [0.6662069 , 0.75      ],\n",
       "       [0.86206897, 0.75      ],\n",
       "       [0.17586207, 0.5       ],\n",
       "       [1.        , 1.        ],\n",
       "       [0.34482759, 0.5       ],\n",
       "       [0.68448276, 0.75      ],\n",
       "       [0.06896552, 0.25      ],\n",
       "       [0.10344828, 0.25      ],\n",
       "       [0.5       , 0.5       ],\n",
       "       [0.12931034, 0.25      ],\n",
       "       [0.13103448, 0.5       ],\n",
       "       [0.25517241, 0.5       ],\n",
       "       [0.67931034, 0.5       ],\n",
       "       [0.        , 0.        ]])"
      ]
     },
     "execution_count": 29,
     "metadata": {},
     "output_type": "execute_result"
    }
   ],
   "source": [
    "from sklearn import preprocessing\n",
    "\n",
    "sx = preprocessing.MinMaxScaler()\n",
    "sy = preprocessing.MinMaxScaler()\n",
    "\n",
    "scaled_X = sx.fit_transform(df.drop('price', axis='columns'))\n",
    "scaled_X"
   ]
  },
  {
   "cell_type": "code",
   "execution_count": 30,
   "id": "a0a6f97a-4d2a-42c0-9c99-3a76afe0e1f9",
   "metadata": {},
   "outputs": [
    {
     "data": {
      "text/plain": [
       "array([[0.05237037],\n",
       "       [0.65185185],\n",
       "       [0.22222222],\n",
       "       [0.31851852],\n",
       "       [0.14074074],\n",
       "       [0.04444444],\n",
       "       [0.76296296],\n",
       "       [0.91111111],\n",
       "       [0.13333333],\n",
       "       [1.        ],\n",
       "       [0.37037037],\n",
       "       [0.8       ],\n",
       "       [0.04444444],\n",
       "       [0.05925926],\n",
       "       [0.51111111],\n",
       "       [0.07407407],\n",
       "       [0.11851852],\n",
       "       [0.20740741],\n",
       "       [0.51851852],\n",
       "       [0.        ]])"
      ]
     },
     "execution_count": 30,
     "metadata": {},
     "output_type": "execute_result"
    }
   ],
   "source": [
    "scaled_y = sy.fit_transform(df['price'].values.reshape(df.shape[0],1))\n",
    "scaled_y"
   ]
  },
  {
   "cell_type": "code",
   "execution_count": 31,
   "id": "218ba8d8-39e0-49ef-8f4a-2adc7c59bcb7",
   "metadata": {},
   "outputs": [],
   "source": [
    "w = np.ones(shape=(2))"
   ]
  },
  {
   "cell_type": "code",
   "execution_count": 32,
   "id": "d4ce4bf9-cbe4-461e-bea5-4533d315b2f1",
   "metadata": {},
   "outputs": [
    {
     "data": {
      "text/plain": [
       "array([[0.08827586, 0.62068966, 0.22068966, 0.24862069, 0.13793103,\n",
       "        0.12758621, 0.6662069 , 0.86206897, 0.17586207, 1.        ,\n",
       "        0.34482759, 0.68448276, 0.06896552, 0.10344828, 0.5       ,\n",
       "        0.12931034, 0.13103448, 0.25517241, 0.67931034, 0.        ],\n",
       "       [0.25      , 0.75      , 0.5       , 0.5       , 0.25      ,\n",
       "        0.25      , 0.75      , 0.75      , 0.5       , 1.        ,\n",
       "        0.5       , 0.75      , 0.25      , 0.25      , 0.5       ,\n",
       "        0.25      , 0.5       , 0.5       , 0.5       , 0.        ]])"
      ]
     },
     "execution_count": 32,
     "metadata": {},
     "output_type": "execute_result"
    }
   ],
   "source": [
    "scaled_X.T"
   ]
  },
  {
   "cell_type": "code",
   "execution_count": 33,
   "id": "0983e02b-d004-4e48-8d4e-258a4daf3ec1",
   "metadata": {},
   "outputs": [
    {
     "data": {
      "text/plain": [
       "array([0.33827586, 1.37068966, 0.72068966, 0.74862069, 0.38793103,\n",
       "       0.37758621, 1.4162069 , 1.61206897, 0.67586207, 2.        ,\n",
       "       0.84482759, 1.43448276, 0.31896552, 0.35344828, 1.        ,\n",
       "       0.37931034, 0.63103448, 0.75517241, 1.17931034, 0.        ])"
      ]
     },
     "execution_count": 33,
     "metadata": {},
     "output_type": "execute_result"
    }
   ],
   "source": [
    "np.dot(w, scaled_X.T)"
   ]
  },
  {
   "cell_type": "code",
   "execution_count": 34,
   "id": "3c484231-17e1-48aa-9871-605eef005bf6",
   "metadata": {},
   "outputs": [
    {
     "data": {
      "text/plain": [
       "array([-9, -3, -4])"
      ]
     },
     "execution_count": 34,
     "metadata": {},
     "output_type": "execute_result"
    }
   ],
   "source": [
    "a = np.array([1, 2, 3])\n",
    "b = np.array([10, 5, 7])\n",
    "a-b"
   ]
  },
  {
   "cell_type": "code",
   "execution_count": 35,
   "id": "c2b99832-a175-49b4-8b47-ca4cffbacd80",
   "metadata": {},
   "outputs": [
    {
     "data": {
      "text/plain": [
       "35.333333333333336"
      ]
     },
     "execution_count": 35,
     "metadata": {},
     "output_type": "execute_result"
    }
   ],
   "source": [
    "np.mean(np.square(a-b))"
   ]
  },
  {
   "cell_type": "code",
   "execution_count": 37,
   "id": "27f76f8a-60eb-4168-b361-e75ad5acb568",
   "metadata": {},
   "outputs": [
    {
     "data": {
      "text/plain": [
       "(array([0.70712464, 0.67456527]), -0.23034857438407427, 0.0068641890429808105)"
      ]
     },
     "execution_count": 37,
     "metadata": {},
     "output_type": "execute_result"
    }
   ],
   "source": [
    "def batch_gradient_descent(X, y_true, epochs, learning_rate = 0.01):\n",
    "    number_of_features = X.shape[1]\n",
    "\n",
    "    w = np.ones(shape=(number_of_features))\n",
    "    b = 0\n",
    "    total_samples = X.shape[0]\n",
    "\n",
    "    cost_list = []\n",
    "    epochs_list = []\n",
    "    \n",
    "    for i in range(epochs):\n",
    "        y_predicted = np.dot(w, scaled_X.T) + b   #w1 * area + w2 * bedrooms + bias\n",
    "\n",
    "        w_grad = -(2/total_samples) * (X.T.dot(y_true - y_predicted))\n",
    "        b_grad = -(2/total_samples) * np.sum(y_true - y_predicted)\n",
    "\n",
    "        w = w - learning_rate * w_grad\n",
    "        b = b - learning_rate * b_grad\n",
    "\n",
    "        cost = np.mean(np.square(y_true - y_predicted))\n",
    "\n",
    "        if i%10==0:\n",
    "            cost_list.append(cost)\n",
    "            epochs_list.append(i)\n",
    "    return w, b, cost, cost_list, epochs_list\n",
    "\n",
    "w, b, cost, cost_list, epochs_list = batch_gradient_descent(scaled_X, scaled_y.reshape(scaled_y.shape[0],),500)\n",
    "w, b, cost"
   ]
  },
  {
   "cell_type": "code",
   "execution_count": 38,
   "id": "cce1c326-3b97-46ae-a12c-5683967bea14",
   "metadata": {},
   "outputs": [
    {
     "data": {
      "text/plain": [
       "[<matplotlib.lines.Line2D at 0x191c3ae0e90>]"
      ]
     },
     "execution_count": 38,
     "metadata": {},
     "output_type": "execute_result"
    },
    {
     "data": {
      "image/png": "[encoded data removed]",
      "text/plain": [
       "<Figure size 640x480 with 1 Axes>"
      ]
     },
     "metadata": {},
     "output_type": "display_data"
    }
   ],
   "source": [
    "plt.xlabel('Epochs')\n",
    "plt.ylabel('cost')\n",
    "plt.plot(epochs_list, cost_list)"
   ]
  },
  {
   "cell_type": "code",
   "execution_count": 39,
   "id": "1f76292e-a0c0-4139-9c61-84200bbc5347",
   "metadata": {},
   "outputs": [
    {
     "name": "stderr",
     "output_type": "stream",
     "text": [
      "C:\\ProgramData\\anaconda3\\Lib\\site-packages\\sklearn\\base.py:439: UserWarning: X does not have valid feature names, but MinMaxScaler was fitted with feature names\n",
      "  warnings.warn(\n"
     ]
    },
    {
     "data": {
      "text/plain": [
       "array([[0.62068966, 0.75      ]])"
      ]
     },
     "execution_count": 39,
     "metadata": {},
     "output_type": "execute_result"
    }
   ],
   "source": [
    "sx.transform([[2600, 4]])"
   ]
  },
  {
   "cell_type": "code",
   "execution_count": 42,
   "id": "a05669a5-9ef0-4d88-9abb-ea3b8b1c3e1d",
   "metadata": {},
   "outputs": [
    {
     "data": {
      "text/plain": [
       "array([[167. ,  99.5,  32. ]])"
      ]
     },
     "execution_count": 42,
     "metadata": {},
     "output_type": "execute_result"
    }
   ],
   "source": [
    " sy.inverse_transform([[1, 0.5, 0]])"
   ]
  },
  {
   "cell_type": "code",
   "execution_count": 45,
   "id": "61ec73b9-b1b5-40d6-baa5-ef6d2c144e4b",
   "metadata": {},
   "outputs": [
    {
     "name": "stderr",
     "output_type": "stream",
     "text": [
      "C:\\ProgramData\\anaconda3\\Lib\\site-packages\\sklearn\\base.py:439: UserWarning: X does not have valid feature names, but MinMaxScaler was fitted with feature names\n",
      "  warnings.warn(\n"
     ]
    },
    {
     "data": {
      "text/plain": [
       "128.45484403267596"
      ]
     },
     "execution_count": 45,
     "metadata": {},
     "output_type": "execute_result"
    }
   ],
   "source": [
    "def predict(area, bedrooms, w, b):\n",
    "    scaled_X = sx.transform([[area, bedrooms]])[0]\n",
    "    scaled_price = w[0]*scaled_X[0] + w[1]*scaled_X[1] + b\n",
    "    return sy.inverse_transform([[scaled_price]])[0][0]\n",
    "  \n",
    "\n",
    "predict(2600, 4, w, b)"
   ]
  },
  {
   "cell_type": "code",
   "execution_count": 46,
   "id": "23b5d83b-5a4d-4f41-88d6-58919fe71bb3",
   "metadata": {},
   "outputs": [
    {
     "name": "stderr",
     "output_type": "stream",
     "text": [
      "C:\\ProgramData\\anaconda3\\Lib\\site-packages\\sklearn\\base.py:439: UserWarning: X does not have valid feature names, but MinMaxScaler was fitted with feature names\n",
      "  warnings.warn(\n"
     ]
    },
    {
     "data": {
      "text/plain": [
       "30.253094462442355"
      ]
     },
     "execution_count": 46,
     "metadata": {},
     "output_type": "execute_result"
    }
   ],
   "source": [
    "predict(1000, 2, w, b)"
   ]
  },
  {
   "cell_type": "code",
   "execution_count": 49,
   "id": "123cd86b-5aa5-4667-bef3-ed90695d8202",
   "metadata": {},
   "outputs": [
    {
     "name": "stderr",
     "output_type": "stream",
     "text": [
      "C:\\ProgramData\\anaconda3\\Lib\\site-packages\\sklearn\\base.py:439: UserWarning: X does not have valid feature names, but MinMaxScaler was fitted with feature names\n",
      "  warnings.warn(\n"
     ]
    },
    {
     "data": {
      "text/plain": [
       "69.47860785714694"
      ]
     },
     "execution_count": 49,
     "metadata": {},
     "output_type": "execute_result"
    }
   ],
   "source": [
    "predict(1500, 3, w, b)"
   ]
  },
  {
   "cell_type": "code",
   "execution_count": 54,
   "id": "9bdbd4eb-643a-46ff-a67f-621a282f56cf",
   "metadata": {},
   "outputs": [
    {
     "data": {
      "text/plain": [
       "5"
      ]
     },
     "execution_count": 54,
     "metadata": {},
     "output_type": "execute_result"
    }
   ],
   "source": [
    "import random\n",
    "random.randint(0,6)"
   ]
  },
  {
   "cell_type": "code",
   "execution_count": 63,
   "id": "009ca92e-3f7f-4829-82fe-486e0b32b604",
   "metadata": {},
   "outputs": [
    {
     "data": {
      "text/plain": [
       "(array([0.70728271, 0.67406445]), -0.23436461393206018, 0.008805697499316284)"
      ]
     },
     "execution_count": 63,
     "metadata": {},
     "output_type": "execute_result"
    }
   ],
   "source": [
    "def stochastic_gradient_descent(X, y_true, epochs, learning_rate = 0.01):\n",
    "    number_of_features = X.shape[1]\n",
    "    # numpy array with 1 row and columns equal to number of features. in \n",
    "    # out case number_of_features = 3 (area, bedrooms and age)\n",
    "    w = np.ones(shape=(number_of_features))\n",
    "    b = 0\n",
    "    total_samples = X.shape[0]\n",
    "\n",
    "    cost_list = []\n",
    "    epochs_list = []\n",
    "\n",
    "    for i in range(epochs):\n",
    "        random_index = random.randint(0, total_samples-1)\n",
    "        sample_x = X[random_index]\n",
    "        sample_y = y_true[random_index]\n",
    "        y_predicted = np.dot(w, sample_x.T) + b\n",
    "\n",
    "        w_grad = -(2/total_samples)*(sample_x.T.dot(sample_y-y_predicted))\n",
    "        b_grad = -(2/total_samples)*(sample_y-y_predicted)\n",
    "\n",
    "        w = w - learning_rate * w_grad\n",
    "        b = b - learning_rate * b_grad\n",
    "\n",
    "        cost = np.square(sample_y-y_predicted)\n",
    "\n",
    "        if i%100==0:\n",
    "            cost_list.append(cost)\n",
    "            epochs_list.append(i)\n",
    "    return w, b, cost, cost_list, epochs_list\n",
    "\n",
    "w_sgd, b_sgd, cost_sgd,  cost_list_sgd, epoch_list_sgd = stochastic_gradient_descent(scaled_X, scaled_y.reshape(scaled_y.shape[0], ), 10000)\n",
    "w_sgd, b_sgd, cost_sgd,"
   ]
  },
  {
   "cell_type": "code",
   "execution_count": 64,
   "id": "9287f961-b260-4fe0-9d86-0ae8256e8044",
   "metadata": {},
   "outputs": [
    {
     "data": {
      "text/plain": [
       "(array([0.70712464, 0.67456527]), -0.23034857438407427, 0.0068641890429808105)"
      ]
     },
     "execution_count": 64,
     "metadata": {},
     "output_type": "execute_result"
    }
   ],
   "source": [
    "w, b, cost"
   ]
  },
  {
   "cell_type": "code",
   "execution_count": 66,
   "id": "e99f8495-c8fe-4fc4-a2d9-f8dcd6594f28",
   "metadata": {},
   "outputs": [
    {
     "data": {
      "text/plain": [
       "[<matplotlib.lines.Line2D at 0x191c516af50>]"
      ]
     },
     "execution_count": 66,
     "metadata": {},
     "output_type": "execute_result"
    },
    {
     "data": {
      "image/png": "[encoded data removed]",
      "text/plain": [
       "<Figure size 640x480 with 1 Axes>"
      ]
     },
     "metadata": {},
     "output_type": "display_data"
    }
   ],
   "source": [
    "plt.xlabel('epochs')\n",
    "plt.ylabel('cost')\n",
    "plt.plot(epoch_list_sgd, cost_list_sgd)"
   ]
  },
  {
   "cell_type": "code",
   "execution_count": 68,
   "id": "22ec2f55-0e21-418a-b00c-a3a425d49334",
   "metadata": {},
   "outputs": [
    {
     "name": "stderr",
     "output_type": "stream",
     "text": [
      "C:\\ProgramData\\anaconda3\\Lib\\site-packages\\sklearn\\base.py:439: UserWarning: X does not have valid feature names, but MinMaxScaler was fitted with feature names\n",
      "  warnings.warn(\n"
     ]
    },
    {
     "data": {
      "text/plain": [
       "127.87521575983136"
      ]
     },
     "execution_count": 68,
     "metadata": {},
     "output_type": "execute_result"
    }
   ],
   "source": [
    "predict(2600, 4, w_sgd, b_sgd)"
   ]
  },
  {
   "cell_type": "code",
   "execution_count": 69,
   "id": "64f2f0de-7057-4f7b-9fe5-1a767505f44c",
   "metadata": {},
   "outputs": [
    {
     "name": "stderr",
     "output_type": "stream",
     "text": [
      "C:\\ProgramData\\anaconda3\\Lib\\site-packages\\sklearn\\base.py:439: UserWarning: X does not have valid feature names, but MinMaxScaler was fitted with feature names\n",
      "  warnings.warn(\n"
     ]
    },
    {
     "data": {
      "text/plain": [
       "68.90778808615687"
      ]
     },
     "execution_count": 69,
     "metadata": {},
     "output_type": "execute_result"
    }
   ],
   "source": [
    "predict(1500, 3, w_sgd, b_sgd)"
   ]
  },
  {
   "cell_type": "code",
   "execution_count": null,
   "id": "f5c70342-f284-47f2-aa2c-89c60ca630d1",
   "metadata": {},
   "outputs": [],
   "source": []
  }
 ],
 "metadata": {
  "kernelspec": {
   "display_name": "Python 3 (ipykernel)",
   "language": "python",
   "name": "python3"
  },
  "language_info": {
   "codemirror_mode": {
    "name": "ipython",
    "version": 3
   },
   "file_extension": ".py",
   "mimetype": "text/x-python",
   "name": "python",
   "nbconvert_exporter": "python",
   "pygments_lexer": "ipython3",
   "version": "3.11.7"
  }
 },
 "nbformat": 4,
 "nbformat_minor": 5
}
